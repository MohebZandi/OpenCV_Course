{
 "cells": [
  {
   "cell_type": "code",
   "execution_count": 1,
   "id": "3c04fa47",
   "metadata": {},
   "outputs": [],
   "source": [
    "# Importing the library\n",
    "import cv2\n",
    "import numpy as np\n",
    "%config Completer.use_jedi = False \n",
    "image_path = '../images/'"
   ]
  },
  {
   "cell_type": "markdown",
   "id": "70062402",
   "metadata": {},
   "source": [
    "### Threshold"
   ]
  },
  {
   "cell_type": "raw",
   "id": "d9de8a3a",
   "metadata": {},
   "source": [
    "cv.threshold(src, thresh, maxval, type[, dst]) -> retval, dst\n",
    "\n",
    "Parameters\n",
    "\n",
    "src\t    input array (multiple-channel, 8-bit or 32-bit floating point).\n",
    "dst\t    output array of the same size and type and the same number of channels as src.\n",
    "thresh\tthreshold value.\n",
    "maxval\tmaximum value to use with the THRESH_BINARY and THRESH_BINARY_INV thresholding types.\n",
    "type\tthresholding type (see ThresholdTypes).\n"
   ]
  },
  {
   "cell_type": "markdown",
   "id": "1d4586ea",
   "metadata": {},
   "source": [
    "### THRESH_BINARY"
   ]
  },
  {
   "cell_type": "code",
   "execution_count": 29,
   "id": "2e79dc22",
   "metadata": {},
   "outputs": [],
   "source": [
    "import cv2\n",
    "img = cv2.imread(image_path + 'leuvenB.jpg')\n",
    "\n",
    "gray = cv2.cvtColor(img, cv2.COLOR_BGR2GRAY)\n",
    "\n",
    "_, mask_img = cv2.threshold(gray, 150, 255, cv2.THRESH_BINARY)\n",
    "\n",
    "cv2.imshow('Original image', img)\n",
    "cv2.imshow('Mask image', mask_img)\n",
    "\n",
    "cv2.waitKey(0)\n",
    "\n",
    "cv2.destroyAllWindows()"
   ]
  },
  {
   "cell_type": "markdown",
   "id": "adbd0a9e",
   "metadata": {},
   "source": [
    "### THRESH_BINARY_INV"
   ]
  },
  {
   "cell_type": "code",
   "execution_count": 3,
   "id": "77dfd575",
   "metadata": {},
   "outputs": [],
   "source": [
    "import cv2\n",
    "img = cv2.imread(image_path + 'leuvenB.jpg')\n",
    "\n",
    "gray = cv2.cvtColor(img, cv2.COLOR_BGR2GRAY)\n",
    "\n",
    "_, mask_img = cv2.threshold(gray, 150, 255, cv2.THRESH_BINARY_INV)\n",
    "\n",
    "cv2.imshow('Original image', img)\n",
    "cv2.imshow('Mask image', mask_img)\n",
    "\n",
    "cv2.waitKey(0)\n",
    "\n",
    "cv2.destroyAllWindows()"
   ]
  },
  {
   "cell_type": "markdown",
   "id": "082b8525",
   "metadata": {},
   "source": [
    "### THRESH_TRUNC"
   ]
  },
  {
   "cell_type": "code",
   "execution_count": 5,
   "id": "5ba25cdf",
   "metadata": {},
   "outputs": [],
   "source": [
    "import cv2\n",
    "img = cv2.imread(image_path + 'leuvenB.jpg')\n",
    "\n",
    "gray = cv2.cvtColor(img, cv2.COLOR_BGR2GRAY)\n",
    "\n",
    "_, mask_img = cv2.threshold(gray, 100, 255, cv2.THRESH_TRUNC)\n",
    "\n",
    "cv2.imshow('Original image', img)\n",
    "cv2.imshow('Mask image', mask_img)\n",
    "\n",
    "cv2.waitKey(0)\n",
    "\n",
    "cv2.destroyAllWindows()"
   ]
  },
  {
   "cell_type": "markdown",
   "id": "53fb6fcc",
   "metadata": {},
   "source": [
    "### THRESH_TOZERO"
   ]
  },
  {
   "cell_type": "code",
   "execution_count": 10,
   "id": "0c4c95e9",
   "metadata": {},
   "outputs": [],
   "source": [
    "import cv2\n",
    "img = cv2.imread(image_path + 'leuvenB.jpg')\n",
    "\n",
    "gray = cv2.cvtColor(img, cv2.COLOR_BGR2GRAY)\n",
    "\n",
    "_, mask_img = cv2.threshold(gray, 150, 255, cv2.THRESH_TOZERO)\n",
    "\n",
    "cv2.imshow('Original image', img)\n",
    "cv2.imshow('Mask image', mask_img)\n",
    "\n",
    "cv2.waitKey(0)\n",
    "\n",
    "cv2.destroyAllWindows()"
   ]
  },
  {
   "cell_type": "markdown",
   "id": "6aeee4a5",
   "metadata": {},
   "source": [
    "### THRESH_TOZERO_INV"
   ]
  },
  {
   "cell_type": "code",
   "execution_count": 11,
   "id": "20145760",
   "metadata": {},
   "outputs": [],
   "source": [
    "import cv2\n",
    "img = cv2.imread(image_path + 'leuvenB.jpg')\n",
    "\n",
    "gray = cv2.cvtColor(img, cv2.COLOR_BGR2GRAY)\n",
    "\n",
    "_, mask_img = cv2.threshold(gray, 150, 255, cv2.THRESH_TOZERO_INV)\n",
    "\n",
    "cv2.imshow('Original image', img)\n",
    "cv2.imshow('Mask image', mask_img)\n",
    "\n",
    "cv2.waitKey(0)\n",
    "\n",
    "cv2.destroyAllWindows()"
   ]
  },
  {
   "cell_type": "markdown",
   "id": "feb6c1f3",
   "metadata": {},
   "source": [
    "### ترکیب ساده و وزن دار دو تصویر"
   ]
  },
  {
   "cell_type": "raw",
   "id": "2a522a5b",
   "metadata": {},
   "source": [
    "cv.add(\tsrc1, src2[, dst[, mask[, dtype]]]\t) ->\tdst\n",
    "\n",
    "Parameters\n",
    "src1\tfirst input array or a scalar.\n",
    "src2\tsecond input array or a scalar."
   ]
  },
  {
   "cell_type": "raw",
   "id": "6c9c08c4",
   "metadata": {},
   "source": [
    "cv.addWeighted(\tsrc1, alpha, src2, beta, gamma[, dst[, dtype]]\t) ->\tdst\n",
    "\n",
    "Parameters\n",
    "src1\tfirst input array.\n",
    "alpha\tweight of the first array elements.\n",
    "src2\tsecond input array of the same size and channel number as src1.\n",
    "beta\tweight of the second array elements.\n",
    "gamma\tscalar added to each sum.\n",
    "\n",
    "dst = src1*alpha + src2*beta + gamma;"
   ]
  },
  {
   "cell_type": "code",
   "execution_count": 6,
   "id": "b5b2fc76",
   "metadata": {},
   "outputs": [],
   "source": [
    "# Adding Two images together\n",
    "\n",
    "text_img = cv2.imread(image_path + 'Opencv_text.jpg')\n",
    "cv2.namedWindow('text_img', cv2.WINDOW_NORMAL)\n",
    "cv2.imshow('text_img', text_img)\n",
    "\n",
    "img = cv2.imread(image_path + 'home.jpg')\n",
    "cv2.namedWindow('img', cv2.WINDOW_NORMAL)\n",
    "cv2.imshow('img', img)\n",
    "\n",
    "\n",
    "# Using cv2.add()\n",
    "# comb_img = cv2.add(text_img, img)\n",
    "# cv2.namedWindow('comb_img', cv2.WINDOW_NORMAL)\n",
    "# cv2.imshow('comb_img', comb_img)\n",
    "\n",
    "\n",
    "\n",
    "# Using cv2.addWeighted()\n",
    "comb_img = cv2.addWeighted(text_img, .9, img, 1, -180)\n",
    "cv2.namedWindow('comb_img', cv2.WINDOW_NORMAL)\n",
    "cv2.imshow('comb_img', comb_img)\n",
    "\n",
    "cv2.waitKey(0)\n",
    "\n",
    "cv2.destroyAllWindows()"
   ]
  },
  {
   "cell_type": "markdown",
   "id": "4da1e89e",
   "metadata": {},
   "source": [
    "### یک مثال کاربردی: ترکیب دو تصویر با استفاده از آستانه گذاری"
   ]
  },
  {
   "cell_type": "code",
   "execution_count": 2,
   "id": "c97af8cc",
   "metadata": {},
   "outputs": [],
   "source": [
    "import cv2\n",
    "import matplotlib.pyplot as plt\n",
    "image_path = '../images/'\n",
    "\n",
    "\n",
    "# Reading images\n",
    "my_img = cv2.imread(image_path + 'Moheb4.jpg')\n",
    "my_image_gray = cv2.cvtColor(my_img, cv2.COLOR_BGR2GRAY)\n",
    "cv2.namedWindow('my_img', cv2.WINDOW_GUI_NORMAL)\n",
    "cv2.imshow('my_img', my_img)\n",
    "\n",
    "pasargad_img = cv2.imread(image_path + 'Pasargad1.jpg')\n",
    "cv2.namedWindow('pasargad_img', cv2.WINDOW_GUI_NORMAL)\n",
    "cv2.imshow('pasargad_img', pasargad_img)\n",
    "\n",
    "\n",
    "# selecting foreground as object\n",
    "_, my_img_mask = cv2.threshold(my_image_gray, 240, 255, cv2.THRESH_BINARY_INV)\n",
    "\n",
    "# selecting background as object\n",
    "_, my_img_background_mask = cv2.threshold(my_image_gray, 240, 255, cv2.THRESH_BINARY)\n",
    "\n",
    "# select my image - color CROPPED image\n",
    "selected_img = cv2.bitwise_and(my_img, my_img, mask= my_img_mask)\n",
    "\n",
    "selected_pasargad = cv2.bitwise_and(pasargad_img, pasargad_img, mask= my_img_background_mask)\n",
    "\n",
    "\n",
    "# final image - Adding Foreground and background images together\n",
    "final_image = cv2.add(selected_img, selected_pasargad)\n",
    "cv2.namedWindow('final_image', cv2.WINDOW_GUI_NORMAL)\n",
    "cv2.imshow('final_image', final_image)\n",
    "\n",
    "\n",
    "cv2.waitKey(0)\n",
    "\n",
    "cv2.destroyAllWindows()"
   ]
  },
  {
   "cell_type": "code",
   "execution_count": 10,
   "id": "dc460dc1",
   "metadata": {},
   "outputs": [
    {
     "name": "stdout",
     "output_type": "stream",
     "text": [
      "Original image Dim: (900, 1440, 3)\n",
      "Gray scale image Dim: (900, 1440)\n",
      "Original Background Image Dim: (900, 1440, 3)\n",
      "Mask image Dim: (900, 1440)\n",
      "Cropped image from Original iwthout background: (900, 1440, 3)\n"
     ]
    }
   ],
   "source": [
    "import cv2\n",
    "\n",
    "# Reading car image\n",
    "car = cv2.imread(image_path + 'Car1_5.jpg')\n",
    "print('Original image Dim:', car.shape)\n",
    "# cv2.imshow('car', car)\n",
    "\n",
    "# Make it gray scale\n",
    "gray_car = cv2.cvtColor(car, cv2.COLOR_BGR2GRAY)\n",
    "print('Gray scale image Dim:',gray_car.shape)\n",
    "\n",
    "# Reading road image (same size of car)\n",
    "road = cv2.imread(image_path + 'ROAD3_1.jpg')\n",
    "print('Original Background Image Dim:', road.shape)\n",
    "# cv2.imshow('road', road)\n",
    "\n",
    "# Creating a mask for car\n",
    "_, mask_car = cv2.threshold(gray_car, 240, 255, cv2.THRESH_BINARY_INV)\n",
    "print('Mask image Dim:',mask_car.shape)\n",
    "# cv2.imshow('Mask car', mask_car)\n",
    "\n",
    "\n",
    "# Recover the Car (Foreground image) from previouse step (Removing Background white color)\n",
    "# Select Car with AND selection based on Original image and only on mask pixels\n",
    "car_select = cv2.bitwise_and(car, car, mask= mask_car)\n",
    "print('Cropped image from Original iwthout background:', car_select.shape)\n",
    "# cv2.imshow('car_select', car_select)\n",
    "\n",
    "\n",
    "# Removing Background white color (of Foreground image) to make AND Logical combination \n",
    "# with Road (background image)   -----> Use cv2.THRESH_BINARY instead of cv2.THRESH_BINARY_INV\n",
    "_ , mask_car_not = cv2.threshold(gray_car, 240, 255, cv2.THRESH_BINARY)\n",
    "\n",
    "# Select Road with AND selection based on Original image and only on mask pixels\n",
    "road_select = cv2.bitwise_and(road, road, mask = mask_car_not)\n",
    "\n",
    "# Add two images with cv2.add\n",
    "final_img = cv2.add(car_select, road_select)\n",
    "cv2.namedWindow('Final Image', cv2.WINDOW_NORMAL)\n",
    "cv2.imshow('Final Image', final_img)\n",
    "\n",
    "\n",
    "cv2.waitKey(0)\n",
    "\n",
    "cv2.destroyAllWindows()"
   ]
  },
  {
   "cell_type": "markdown",
   "id": "8e0061db",
   "metadata": {},
   "source": [
    "### تمرین\n",
    "\n",
    "#### یک تصویر را خوانده و پیکسل های با روشنایی بیشتر از دویست را ماسک نمایید\n",
    "\n",
    "#### تمرین فوق را دوباره انجام دهید و این بار پیکسل های با روشنایی کمتر از دویست را ماسک نمایید\n",
    "\n",
    "#### دو تصویر را باهم ترکیب نمایید یک بار بصورت ساده و یک بار بصورت وزن دار\n",
    "\n",
    "#### دو تصویر را با استفاده از آستانه گذاری بصورت پس زمینه و پیش زمینه با هم ترکیب نمایید"
   ]
  },
  {
   "cell_type": "code",
   "execution_count": null,
   "id": "070f302c",
   "metadata": {},
   "outputs": [],
   "source": []
  },
  {
   "cell_type": "code",
   "execution_count": null,
   "id": "2116c7e0",
   "metadata": {},
   "outputs": [],
   "source": []
  },
  {
   "cell_type": "code",
   "execution_count": null,
   "id": "82cd8b17",
   "metadata": {},
   "outputs": [],
   "source": []
  },
  {
   "cell_type": "code",
   "execution_count": null,
   "id": "593aba0d",
   "metadata": {},
   "outputs": [],
   "source": []
  },
  {
   "cell_type": "code",
   "execution_count": null,
   "id": "ae4fdbbd",
   "metadata": {},
   "outputs": [],
   "source": []
  },
  {
   "cell_type": "code",
   "execution_count": null,
   "id": "e067f568",
   "metadata": {},
   "outputs": [],
   "source": []
  },
  {
   "cell_type": "code",
   "execution_count": null,
   "id": "52f7c0ce",
   "metadata": {},
   "outputs": [],
   "source": []
  },
  {
   "cell_type": "code",
   "execution_count": null,
   "id": "7baa9435",
   "metadata": {},
   "outputs": [],
   "source": []
  }
 ],
 "metadata": {
  "kernelspec": {
   "display_name": "Python 3 (ipykernel)",
   "language": "python",
   "name": "python3"
  },
  "language_info": {
   "codemirror_mode": {
    "name": "ipython",
    "version": 3
   },
   "file_extension": ".py",
   "mimetype": "text/x-python",
   "name": "python",
   "nbconvert_exporter": "python",
   "pygments_lexer": "ipython3",
   "version": "3.9.6"
  }
 },
 "nbformat": 4,
 "nbformat_minor": 5
}
