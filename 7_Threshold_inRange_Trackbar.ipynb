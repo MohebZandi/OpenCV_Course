{
 "cells": [
  {
   "cell_type": "code",
   "execution_count": 1,
   "id": "fe46982b",
   "metadata": {},
   "outputs": [],
   "source": [
    "# Importing the library\n",
    "import cv2\n",
    "import numpy as np\n",
    "import matplotlib.pyplot as plt\n",
    "%config Completer.use_jedi = False \n",
    "image_path = '../images/'"
   ]
  },
  {
   "cell_type": "markdown",
   "id": "a4bf9ea1",
   "metadata": {},
   "source": [
    "## Adaptive Threshold"
   ]
  },
  {
   "cell_type": "markdown",
   "id": "6d4ce381",
   "metadata": {},
   "source": [
    "#### In adaptive thresholding, the threshold value is calculated for smaller regions and, therefore, there will be different threshold values for different regions. \n",
    "\n",
    "#### So, we can get different thresholds for different regions of the same image, and it gives us better results for images with varying illumination."
   ]
  },
  {
   "cell_type": "code",
   "execution_count": 4,
   "id": "e79ef5bd",
   "metadata": {},
   "outputs": [],
   "source": [
    "import cv2\n",
    "img = cv2.imread('../images/leuvenB.jpg')\n",
    "\n",
    "gray = cv2.cvtColor(img, cv2.COLOR_BGR2GRAY)\n",
    "\n",
    "\n",
    "_, mask_img = cv2.threshold(gray, 110, 255, cv2.THRESH_BINARY)\n",
    "\n",
    "mask_img = cv2.adaptiveThreshold(gray, 255, cv2.ADAPTIVE_THRESH_MEAN_C, cv2.THRESH_BINARY, 75, 2)\n",
    "\n",
    "cv2.imshow('Original image', gray)\n",
    "cv2.imshow('Mask image', mask_img)\n",
    "\n",
    "cv2.waitKey(0)\n",
    "\n",
    "cv2.destroyAllWindows()"
   ]
  },
  {
   "cell_type": "code",
   "execution_count": null,
   "id": "c72022eb",
   "metadata": {},
   "outputs": [],
   "source": []
  },
  {
   "cell_type": "markdown",
   "id": "b706976a",
   "metadata": {},
   "source": [
    "## Thresholding Operations using inRange\n",
    "\n",
    "### این تابع مقادیر پیکسل که بین دو آرایه پایینی و بالایی باشند را با مقدار ماکزیموم بر می گرداند\n",
    "### و مقادیری را که خارج از محدوده دو آرایه پایینی و بالایی باشند با مقدار صفر بر می گرداند"
   ]
  },
  {
   "cell_type": "markdown",
   "id": "ef863e4e",
   "metadata": {},
   "source": [
    "### برای استفاده از این تابع باید در فضای رنگ اچ اس وی کار کنیم."
   ]
  },
  {
   "cell_type": "markdown",
   "id": "24132793",
   "metadata": {},
   "source": [
    "### RGB Color Space"
   ]
  },
  {
   "cell_type": "markdown",
   "id": "88763872",
   "metadata": {},
   "source": [
    "<img src='../images/Threshold_inRange_RGB_colorspace.jpg' width=500 height=500 >"
   ]
  },
  {
   "cell_type": "markdown",
   "id": "ad6d6fa9",
   "metadata": {},
   "source": [
    "### HSV (HSL) Color Space (Hue, Saturation, lightness Value)"
   ]
  },
  {
   "cell_type": "markdown",
   "id": "53a26e2a",
   "metadata": {},
   "source": [
    "<img src='../images/Threshold_inRange_HSV_colorspace.jpg' width=500 height=500 >"
   ]
  },
  {
   "cell_type": "code",
   "execution_count": 70,
   "id": "c70efdb4",
   "metadata": {},
   "outputs": [],
   "source": [
    "# Thresholding By cv2.inRange()\n",
    "\n",
    "#defining the lower bounds and upper bounds\n",
    "\n",
    "# HSV Color Space (Hue, Saturation, lightness Value)\n",
    "\n",
    "lower_bound = np.array([90, 40, 0])\n",
    "upper_bound = np.array([127,255,255])\n",
    "\n",
    "img = cv2.imread('../images/bluebird.png')\n",
    "img_hsv = cv2.cvtColor(img, cv2.COLOR_BGR2HSV)\n",
    "\n",
    "#masking the image using inRange() function\n",
    "\n",
    "imagemask_hsv = cv2.inRange(img_hsv, lower_bound, upper_bound)\n",
    "\n",
    "\n",
    "cv2.imshow('Original image', img)\n",
    "\n",
    "cv2.imshow('Mask image HSV', imagemask_hsv)\n",
    "\n",
    "cv2.waitKey(0)\n",
    "cv2.destroyAllWindows()"
   ]
  },
  {
   "cell_type": "code",
   "execution_count": 71,
   "id": "6529f082",
   "metadata": {},
   "outputs": [],
   "source": [
    "# Comparing Two Thresholding Methods   inRange vs thrshold (BINARY_INV)\n",
    "\n",
    "lower_bound = np.array([90, 40, 0])\n",
    "upper_bound = np.array([127,255,255])\n",
    "\n",
    "img = cv2.imread('../images/bluebird.png')\n",
    "img_hsv = cv2.cvtColor(img, cv2.COLOR_BGR2HSV)\n",
    "\n",
    "#masking the image using inRange() function\n",
    "\n",
    "imagemask_hsv = cv2.inRange(img_hsv, lower_bound, upper_bound)\n",
    "\n",
    "\n",
    "gray = cv2.cvtColor(img, cv2.COLOR_BGR2GRAY)\n",
    "_, mask_img = cv2.threshold(gray, 100, 255, cv2.THRESH_BINARY_INV)\n",
    "\n",
    "# cv2.imshow('Original image', img)\n",
    "\n",
    "cv2.imshow('Mask image HSV', imagemask_hsv)\n",
    "\n",
    "cv2.imshow('Binary_INV MAsk', mask_img)\n",
    "\n",
    "cv2.waitKey(0)\n",
    "cv2.destroyAllWindows()"
   ]
  },
  {
   "cell_type": "markdown",
   "id": "ceffbc20",
   "metadata": {},
   "source": [
    "### Add a Trackbar in an OpenCV window by using cv2.createTrackbar\n"
   ]
  },
  {
   "cell_type": "raw",
   "id": "2fba8252",
   "metadata": {},
   "source": [
    "cv2.createTrackbar(trackbarName, windowName, value, count, onChange)\n",
    "\n",
    "cv2.getTrackbarPos(trackbarName, windowName)"
   ]
  },
  {
   "cell_type": "code",
   "execution_count": 72,
   "id": "858abb01",
   "metadata": {},
   "outputs": [],
   "source": [
    "# Get threshold value for masking from user by Trackbar\n",
    "def nothing(x):\n",
    "    pass\n",
    "cv2.namedWindow('Image')\n",
    "\n",
    "\n",
    "# Create a trackbar to find a threshold minimum value\n",
    "cv2.createTrackbar('Threshold', 'Image', 50, 200, nothing)\n",
    "\n",
    "# Create a trackbar to select BINARY or  BINARY_INV\n",
    "cv2.createTrackbar('Type', 'Image', 0, 1, nothing)\n",
    "\n",
    "while True:\n",
    "    \n",
    "    # reading the image\n",
    "    img = cv2.imread('../images/bluebird.png')\n",
    "    gray = cv2.cvtColor(img, cv2.COLOR_BGR2GRAY)\n",
    "    \n",
    "    # Get the value from track-bar \n",
    "    mask_thresh = cv2.getTrackbarPos('Threshold', 'Image')\n",
    "  \n",
    "    Threshold_type = cv2.getTrackbarPos('Type', 'Image')\n",
    "    \n",
    "    # Change the threshold according to user selection\n",
    "    if Threshold_type == 0: \n",
    "        thresh_type = cv2.THRESH_BINARY\n",
    "        \n",
    "    if Threshold_type == 1:\n",
    "        thresh_type = cv2.THRESH_BINARY_INV\n",
    "        \n",
    "    _, img_mask = cv2.threshold(gray, mask_thresh, 255, thresh_type) \n",
    "    \n",
    "    cv2.imshow('img', img)\n",
    "    cv2.imshow('Image', img_mask)\n",
    "    \n",
    "    # Exit if ESC pressed\n",
    "    k = cv2.waitKey(1) & 0xFF   # we need a short time to change the image\n",
    "    if k == 27 : \n",
    "        break\n",
    "        \n",
    "cv2.destroyAllWindows()"
   ]
  },
  {
   "cell_type": "code",
   "execution_count": 68,
   "id": "13ca8d9c",
   "metadata": {},
   "outputs": [],
   "source": [
    "# Get threshold value for masking from user by Trackbar\n",
    "\n",
    "# And add the threshold type text on image\n",
    "\n",
    "def nothing(x):\n",
    "    pass\n",
    "cv2.namedWindow('Image')\n",
    "\n",
    "\n",
    "# Create a trackbar to find a threshold minimum value\n",
    "cv2.createTrackbar('Threshold', 'Image', 50, 200, nothing)\n",
    "\n",
    "# Create a trackbar to select BINARY or  BINARY_INV\n",
    "cv2.createTrackbar('Type', 'Image', 0, 1, nothing)\n",
    "\n",
    "while True:\n",
    "    \n",
    "    # reading the image\n",
    "    img = cv2.imread('../images/bluebird.png')\n",
    "    gray = cv2.cvtColor(img, cv2.COLOR_BGR2GRAY)\n",
    "    \n",
    "    # Get the value from track-bar \n",
    "    mask_thresh = cv2.getTrackbarPos('Threshold', 'Image')\n",
    "  \n",
    "    Threshold_type = cv2.getTrackbarPos('Type', 'Image')\n",
    "    \n",
    "    # Change the threshold according to user selection\n",
    "    if Threshold_type == 0: \n",
    "        thresh_type = cv2.THRESH_BINARY      \n",
    "        thresh_text = 'THRESH_BINARY'       #######\n",
    "        color = (0, 0, 0)                   #######\n",
    "        \n",
    "    if Threshold_type == 1:\n",
    "        thresh_type = cv2.THRESH_BINARY_INV\n",
    "        thresh_text = 'THRESH_BINARY_INV'     #######\n",
    "        color = (255, 255, 255)               #######\n",
    "        \n",
    "    _, img_mask = cv2.threshold(gray, mask_thresh, 255, thresh_type) \n",
    "    cv2.putText(img_mask, thresh_text, (300, 50), cv2.FONT_HERSHEY_COMPLEX_SMALL, 1, color, 1)   #######\n",
    "    \n",
    "    cv2.imshow('img', img)\n",
    "    cv2.imshow('Image', img_mask)\n",
    "    \n",
    "    # Exit if ESC pressed\n",
    "    k = cv2.waitKey(1) & 0xFF    # we need a short time to change the image\n",
    "    if k == 27 : \n",
    "        break\n",
    "        \n",
    "cv2.destroyAllWindows()"
   ]
  },
  {
   "cell_type": "code",
   "execution_count": 5,
   "id": "b4ff6c5e",
   "metadata": {},
   "outputs": [],
   "source": [
    "import cv2\n",
    "import numpy as np\n",
    "\n",
    "def nothing(x):\n",
    "    pass\n",
    "\n",
    "cv2.namedWindow('img1')\n",
    "cv2.createTrackbar('Hue-Low', 'img1', 0, 255, nothing)\n",
    "cv2.createTrackbar('Hue-Up', 'img1', 100, 255, nothing)\n",
    "cv2.createTrackbar('Saturation-Low', 'img1', 100, 255, nothing)\n",
    "cv2.createTrackbar('Saturation-Up', 'img1', 255, 255, nothing)\n",
    "cv2.createTrackbar('Value-Low', 'img1', 20, 255, nothing)\n",
    "cv2.createTrackbar('Value-Up', 'img1', 155, 255, nothing)\n",
    "\n",
    "while True:\n",
    "    img = cv2.imread(image_path + 'bluebird.png')\n",
    "    img_hsv = cv2.cvtColor(img, cv2.COLOR_BGR2HSV)\n",
    "    \n",
    "    Hue_l = cv2.getTrackbarPos('Hue-Low', 'img1')\n",
    "    Hue_u = cv2.getTrackbarPos('Hue-Up', 'img1')\n",
    "    Sat_l = cv2.getTrackbarPos('Saturation-Low', 'img1')\n",
    "    Sat_u = cv2.getTrackbarPos('Saturation-Up', 'img1')\n",
    "    Val_l = cv2.getTrackbarPos('Value-Low', 'img1')\n",
    "    Val_u = cv2.getTrackbarPos('Value-Up', 'img1')\n",
    "    \n",
    "    cv2.putText(img, str(Hue_l),(10,10),1, 2, (0,0,255) )\n",
    "    \n",
    "    color_low = np.array([Hue_l, Sat_l, Val_l])\n",
    "    color_up = np.array([Hue_u, Sat_u, Val_u])\n",
    "    \n",
    "    mask = cv2.inRange(img_hsv, color_low, color_up)\n",
    "    \n",
    "    img2 = cv2.bitwise_and(img, img, mask= mask)\n",
    "    \n",
    "    img = cv2.resize(img, (400, 400))\n",
    "    cv2.imshow('img', img)\n",
    "    \n",
    "    mask = cv2.resize(mask, (400, 400))\n",
    "    cv2.imshow('mask', mask)\n",
    "    \n",
    "    k=cv2.waitKey(10)\n",
    "    if k == 27:\n",
    "        break\n",
    "cv2.destroyAllWindows()"
   ]
  },
  {
   "cell_type": "code",
   "execution_count": 11,
   "id": "7dfe5f6b",
   "metadata": {},
   "outputs": [],
   "source": [
    "lower_b = [85, 100, 20]\n",
    "higher_b = [153, 255, 255]"
   ]
  },
  {
   "cell_type": "code",
   "execution_count": 12,
   "id": "1c42b7d0",
   "metadata": {},
   "outputs": [],
   "source": []
  },
  {
   "cell_type": "markdown",
   "id": "91910555",
   "metadata": {},
   "source": [
    "## Scaling, re-sizing and interpolations\n",
    "\n",
    "Re-sizing is very easy using the cv2.resize function, it's arguments are:\n",
    "\n",
    "cv2.resize(image, dsize(output image size), x scale, y scale, interpolation)\n",
    "\n",
    "\n",
    "### Resizing With Different Interpolation Methods\n",
    "\n",
    "Different interpolation methods are used for different resizing purposes.\n",
    "\n",
    "**INTER_AREA:** INTER_AREA uses pixel area relation for resampling. \n",
    "\n",
    "This is best suited for **reducing** the size of an image (shrinking).\n",
    "When used for **zooming into** the image, it uses the **INTER_NEAREST** method.\n",
    "\n",
    "#### --------------------------------------------------\n",
    "\n",
    "### برای کوچک نمایی از \"اینتر_اریا\" استفاده می شود و برای بزرگنمایی از \"اینتر_نییرست\" استفاده می گردد\n",
    "\n",
    "\n",
    "#### --------------------------------------------------\n",
    "**INTER_CUBIC:** This uses bicubic interpolation for resizing the image. While resizing and interpolating new pixels, this method acts on the 4×4 neighboring pixels of the image. It then takes the weights average of the 16 pixels to create the new interpolated pixel.\n",
    "\n",
    "**INTER_LINEAR:** This method is somewhat similar to the INTER_CUBIC interpolation. But unlike INTER_CUBIC, this uses 2×2 neighboring pixels to get the weighted average for the interpolated pixel.\n",
    "\n",
    "**INTER_NEAREST:** The INTER_NEAREST method uses the nearest neighbor concept for interpolation. This is one of the simplest methods, using only one neighboring pixel from the image for interpolation."
   ]
  },
  {
   "cell_type": "markdown",
   "id": "9ce3898c",
   "metadata": {},
   "source": [
    "### دو روش برای مشخص کردن اندازه تصویر مقصد وجود دارد\n",
    "\n",
    "#### روش اول دادن تعداد پیکسل ها بصورت تاپل\n",
    "\n",
    "#### روش دوم دادن ضریب برای بزرگ یا کوچک کردن تصاویر"
   ]
  },
  {
   "cell_type": "markdown",
   "id": "bb4917ba",
   "metadata": {},
   "source": [
    "cv2.resize(image, dsize(output image size), x scale, y scale, interpolation)"
   ]
  },
  {
   "cell_type": "code",
   "execution_count": 73,
   "id": "2704c76f",
   "metadata": {},
   "outputs": [],
   "source": [
    "import cv2\n",
    "import numpy as np\n",
    "\n",
    "# load our input image\n",
    "image = cv2.imread('../images/fruits.jpg')\n",
    "\n",
    "# Let's make our image 3/4 of it's original size\n",
    "image_scaled = cv2.resize(image, None, fx=0.75, fy=0.75)\n",
    "cv2.imshow('Scaling - Linear Interpolation', image_scaled) \n",
    "\n",
    "\n",
    "# Let's double the size of our image\n",
    "img_scaled = cv2.resize(image, None, fx=2, fy=2, interpolation = cv2.INTER_CUBIC)\n",
    "cv2.imshow('Scaling - Cubic Interpolation', img_scaled)\n",
    "\n",
    "\n",
    "# Let's skew the re-sizing by setting exact dimensions\n",
    "img_scaled = cv2.resize(image, (900, 400), interpolation = cv2.INTER_AREA)\n",
    "cv2.imshow('Scaling - Skewed Size', img_scaled) \n",
    "\n",
    "\n",
    "cv2.waitKey(0)\n",
    "cv2.destroyAllWindows()"
   ]
  },
  {
   "cell_type": "code",
   "execution_count": null,
   "id": "be0c4954",
   "metadata": {},
   "outputs": [],
   "source": []
  }
 ],
 "metadata": {
  "kernelspec": {
   "display_name": "Python 3 (ipykernel)",
   "language": "python",
   "name": "python3"
  },
  "language_info": {
   "codemirror_mode": {
    "name": "ipython",
    "version": 3
   },
   "file_extension": ".py",
   "mimetype": "text/x-python",
   "name": "python",
   "nbconvert_exporter": "python",
   "pygments_lexer": "ipython3",
   "version": "3.9.6"
  }
 },
 "nbformat": 4,
 "nbformat_minor": 5
}
