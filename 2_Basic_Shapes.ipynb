{
 "cells": [
  {
   "cell_type": "code",
   "execution_count": 1,
   "id": "c3bed66d",
   "metadata": {},
   "outputs": [],
   "source": [
    "# Importing the library\n",
    "import cv2\n",
    "import numpy as np\n",
    "\n",
    "%matplotlib inline\n",
    "%config Completer.use_jedi = False \n",
    "\n",
    "image_path = '../images/'"
   ]
  },
  {
   "cell_type": "markdown",
   "id": "0b2ee4ee",
   "metadata": {},
   "source": [
    "## Basic Drawings"
   ]
  },
  {
   "cell_type": "markdown",
   "id": "3796c2b5",
   "metadata": {},
   "source": [
    " **line()**    ترسیم خط\n",
    " \n",
    " **ellipse()**   ترسیم بیضی\n",
    " \n",
    " **rectangle()**    ترسیم مستطیل\n",
    " \n",
    " **circle()**   ترسیم دایره\n",
    "  \n",
    " **fillPoly()**    ترسیم چند ضلعی\n"
   ]
  },
  {
   "cell_type": "markdown",
   "id": "aaa0f289",
   "metadata": {},
   "source": [
    "### نوشتن تابع برای نمایش یک تصویر"
   ]
  },
  {
   "cell_type": "code",
   "execution_count": 2,
   "id": "ae4772b0",
   "metadata": {},
   "outputs": [],
   "source": [
    "def show_one_image(image_file):\n",
    "\n",
    "    cv2.imshow('image', image_file)\n",
    "\n",
    "    while True:\n",
    "        k = cv2.waitKey(0) & 0xFF\n",
    "\n",
    "        if k != 27:\n",
    "            print('If you want to close, please press ESC')\n",
    "\n",
    "        if k == 27:\n",
    "            print('\\nESC Pressed, closing window...')\n",
    "            cv2.destroyAllWindows()\n",
    "            break"
   ]
  },
  {
   "cell_type": "code",
   "execution_count": 7,
   "id": "20dcee8f",
   "metadata": {},
   "outputs": [
    {
     "data": {
      "text/plain": [
       "(400, 400, 3)"
      ]
     },
     "execution_count": 7,
     "metadata": {},
     "output_type": "execute_result"
    }
   ],
   "source": [
    "# create a 400x400 pixels black image\n",
    "raw_img = np.zeros((400, 400, 3), dtype = np.uint8)   # use np.uint8 or 'uint8'\n",
    "raw_img.shape"
   ]
  },
  {
   "cell_type": "code",
   "execution_count": 8,
   "id": "86873bf0",
   "metadata": {},
   "outputs": [
    {
     "name": "stdout",
     "output_type": "stream",
     "text": [
      "\n",
      "ESC Pressed, closing window...\n"
     ]
    }
   ],
   "source": [
    "import cv2\n",
    "\n",
    "cv2.imshow('image', raw_img)\n",
    "\n",
    "show_one_image(raw_img)"
   ]
  },
  {
   "cell_type": "markdown",
   "id": "ee2d2ba3",
   "metadata": {},
   "source": [
    "### line() ترسیم خط\n",
    "\n"
   ]
  },
  {
   "cell_type": "raw",
   "id": "8bfe2211",
   "metadata": {},
   "source": [
    "cv2.line(\timg, pt1, pt2, color[, thickness[, lineType[, shift]]]\t) ->\timg\n",
    "\n",
    "Parameters\n",
    "    img         Image.\n",
    "    pt1         First point of the line segment.\n",
    "    pt2         Second point of the line segment.\n",
    "    color       Line color.\n",
    "    thickness   Line thickness."
   ]
  },
  {
   "cell_type": "code",
   "execution_count": 5,
   "id": "3903d0f2",
   "metadata": {},
   "outputs": [],
   "source": [
    "# Drawing a line on image\n",
    "\n",
    "line_img = cv2.line(raw_img, (10,20), (100,200), (0,255,0), 2)"
   ]
  },
  {
   "cell_type": "code",
   "execution_count": 6,
   "id": "da0297f7",
   "metadata": {},
   "outputs": [
    {
     "name": "stdout",
     "output_type": "stream",
     "text": [
      "\n",
      "ESC Pressed, closing window...\n"
     ]
    }
   ],
   "source": [
    "cv2.imshow('image', line_img)\n",
    "\n",
    "show_one_image(raw_img)"
   ]
  },
  {
   "cell_type": "markdown",
   "id": "983393f3",
   "metadata": {},
   "source": [
    "### circle() ترسیم دایره"
   ]
  },
  {
   "cell_type": "raw",
   "id": "3919b4cd",
   "metadata": {},
   "source": [
    "cv2.circle(\timg, center, radius, color[, thickness[, lineType[, shift]]]\t) ->\timg\n",
    "\n",
    "Parameters\n",
    "\n",
    "img\t        Image where the circle is drawn.\n",
    "center\t    Center of the circle.\n",
    "radius\t    Radius of the circle.\n",
    "color\t    Circle color.\n",
    "thickness\tThickness of the circle outline, if positive. Negative values, like FILLED, mean that a filled circle is to             be drawn"
   ]
  },
  {
   "cell_type": "code",
   "execution_count": 12,
   "id": "cbce5c81",
   "metadata": {},
   "outputs": [
    {
     "name": "stdout",
     "output_type": "stream",
     "text": [
      "\n",
      "ESC Pressed, closing window...\n"
     ]
    }
   ],
   "source": [
    "raw_img = np.zeros((400, 400, 3), dtype = np.uint8) \n",
    "\n",
    "circle_img = cv2.circle(raw_img,\n",
    "                        (200, 200),      # Center\n",
    "                        80,             # Radius    شعاع\n",
    "                        (0,255,0), \n",
    "                        2              # Negative value = Filled rectangle   مقادیر منفی مستطیل تو پر می کشد\n",
    "                        )\n",
    "\n",
    "show_one_image(circle_img)"
   ]
  },
  {
   "cell_type": "markdown",
   "id": "31c377aa",
   "metadata": {},
   "source": [
    "### ellipse() ترسیم بیضی"
   ]
  },
  {
   "cell_type": "raw",
   "id": "b7d4cb35",
   "metadata": {},
   "source": [
    "cv2.ellipse(\timg, center, axes, angle, startAngle, endAngle, color[, thickness[, lineType[, shift]]]\t) ->\timg\n",
    "\n",
    "Parameters\n",
    "\n",
    "img\t        Image.\n",
    "center\t    Center of the ellipse.\n",
    "axes\t    Half of the size of the ellipse main axes.\n",
    "angle\t    Ellipse rotation angle in degrees.\n",
    "startAngle\tStarting angle of the elliptic arc in degrees.\n",
    "endAngle\tEnding angle of the elliptic arc in degrees.\n",
    "color\t    Ellipse color.\n",
    "thickness\tThickness of the ellipse arc outline, if positive. Otherwise, this indicates that a filled ellipse sector               is to be drawn\n"
   ]
  },
  {
   "cell_type": "raw",
   "id": "3b8dc59c",
   "metadata": {},
   "source": [
    "# create a 400x400 pixels black image\n",
    "raw_img = np.zeros((400, 400, 3), dtype = np.uint8)   \n",
    "print(raw_img.shape)\n",
    "\n",
    "show_one_image(raw_img)"
   ]
  },
  {
   "cell_type": "code",
   "execution_count": 15,
   "id": "67c06bf3",
   "metadata": {},
   "outputs": [
    {
     "name": "stdout",
     "output_type": "stream",
     "text": [
      "\n",
      "ESC Pressed, closing window...\n"
     ]
    }
   ],
   "source": [
    "raw_img = np.zeros((400, 400, 3), dtype = np.uint8) \n",
    "ellipse_img = cv2.ellipse(raw_img,       # image (source)\n",
    "                           (200, 200),   # Center\n",
    "                            (100, 50),   # Axes\n",
    "                            0,           # Angle\n",
    "                            0,           # Start Angle\n",
    "                            360,         # End Angle\n",
    "                            (255, 0, 0), # color\n",
    "                            2             # Thickness\n",
    "                            )\n",
    "show_one_image(ellipse_img)"
   ]
  },
  {
   "cell_type": "code",
   "execution_count": 16,
   "id": "956b6f21",
   "metadata": {},
   "outputs": [
    {
     "name": "stdout",
     "output_type": "stream",
     "text": [
      "\n",
      "ESC Pressed, closing window...\n"
     ]
    }
   ],
   "source": [
    "raw_img = np.zeros((400, 400, 3), dtype = np.uint8) \n",
    "ellipse_img = cv2.ellipse(raw_img,       # image (source)\n",
    "                           (200, 200),   # Center\n",
    "                            (100, 20),   # Axes      ******\n",
    "                            0,           # Angle\n",
    "                            0,           # Start Angle\n",
    "                            360,         # End Angle\n",
    "                            (255, 0, 0), # color\n",
    "                            2             # Thickness\n",
    "                            )\n",
    "show_one_image(ellipse_img)"
   ]
  },
  {
   "cell_type": "code",
   "execution_count": 19,
   "id": "4b457d61",
   "metadata": {},
   "outputs": [
    {
     "name": "stdout",
     "output_type": "stream",
     "text": [
      "\n",
      "ESC Pressed, closing window...\n"
     ]
    }
   ],
   "source": [
    "raw_img = np.zeros((400, 400, 3), dtype = np.uint8) \n",
    "ellipse_img = cv2.ellipse(raw_img,       # image (source)\n",
    "                           (200, 200),   # Center\n",
    "                            (100, 50),   # Axes      \n",
    "                            90,           # Angle    ******\n",
    "                            0,           # Start Angle\n",
    "                            360,         # End Angle\n",
    "                            (255, 0, 0), # color\n",
    "                            2             # Thickness\n",
    "                            )\n",
    "show_one_image(ellipse_img)"
   ]
  },
  {
   "cell_type": "code",
   "execution_count": 21,
   "id": "c79242ea",
   "metadata": {},
   "outputs": [
    {
     "name": "stdout",
     "output_type": "stream",
     "text": [
      "\n",
      "ESC Pressed, closing window...\n"
     ]
    }
   ],
   "source": [
    "raw_img = np.zeros((400, 400, 3), dtype = np.uint8) \n",
    "ellipse_img = cv2.ellipse(raw_img,       # image (source)\n",
    "                           (200, 200),   # Center\n",
    "                            (100, 50),   # Axes      \n",
    "                            0,           # Angle    \n",
    "                            0,           # Start Angle  \n",
    "                            180,         # End Angle      ******\n",
    "                            (255, 0, 0), # color\n",
    "                            2             # Thickness\n",
    "                            )\n",
    "show_one_image(ellipse_img)"
   ]
  },
  {
   "cell_type": "code",
   "execution_count": 21,
   "id": "2bb229f3",
   "metadata": {},
   "outputs": [
    {
     "name": "stdout",
     "output_type": "stream",
     "text": [
      "\n",
      "ESC Pressed, closing window...\n"
     ]
    }
   ],
   "source": [
    "raw_img = np.zeros((400, 400, 3), dtype = np.uint8) \n",
    "ellipse_img = cv2.ellipse(raw_img,       # image (source)\n",
    "                           (200, 200),   # Center\n",
    "                            (100, 50),   # Axes      \n",
    "                            0,           # Angle    \n",
    "                            0,           # Start Angle  \n",
    "                            180,         # End Angle      \n",
    "                            (255, 255, 0), # color       ******\n",
    "                            2             # Thickness  \n",
    "                            )\n",
    "show_one_image(ellipse_img)"
   ]
  },
  {
   "cell_type": "markdown",
   "id": "1aa76ab0",
   "metadata": {},
   "source": [
    "### ترسیم شکل اتم"
   ]
  },
  {
   "cell_type": "code",
   "execution_count": 22,
   "id": "c0270d88",
   "metadata": {},
   "outputs": [
    {
     "name": "stdout",
     "output_type": "stream",
     "text": [
      "\n",
      "ESC Pressed, closing window...\n"
     ]
    }
   ],
   "source": [
    "raw_img = np.zeros((400, 400, 3), dtype = np.uint8) \n",
    "center_point = (200, 200)\n",
    "\n",
    "angle = 0\n",
    "attom_img = cv2.ellipse(raw_img, center_point, (80, 30), angle, 0, 360, (255, 255, 0), 2)\n",
    "\n",
    "angle = 45\n",
    "attom_img = cv2.ellipse(raw_img, center_point, (80, 30), angle, 0, 360, (0, 255, 0), 2)\n",
    "\n",
    "angle = 90\n",
    "attom_img = cv2.ellipse(raw_img, center_point, (80, 30), angle, 0, 360, (0, 255, 255), 2)\n",
    "\n",
    "angle = 135\n",
    "attom_img = cv2.ellipse(raw_img, center_point, (80, 30), angle, 0, 360, (0, 0, 255), 2)\n",
    "\n",
    "show_one_image(attom_img)"
   ]
  },
  {
   "cell_type": "code",
   "execution_count": 24,
   "id": "bcde906d",
   "metadata": {},
   "outputs": [
    {
     "name": "stdout",
     "output_type": "stream",
     "text": [
      "\n",
      "ESC Pressed, closing window...\n"
     ]
    }
   ],
   "source": [
    "# put all in a for loop\n",
    "\n",
    "raw_img = np.zeros((400, 400, 3), dtype = np.uint8) \n",
    "center_point = (200, 200)\n",
    "\n",
    "angle_list = [0, 45, 90, 135]\n",
    "color_list = [(255, 255, 0), (0, 255, 0), (0, 255, 255), (0, 0, 255)]\n",
    "\n",
    "for angle, color in zip(angle_list, color_list):\n",
    "    attom_img = cv2.ellipse(raw_img, center_point, (80, 30), angle, 0, 360, color, 2)\n",
    "    \n",
    "show_one_image(attom_img)"
   ]
  },
  {
   "cell_type": "markdown",
   "id": "8ac227ac",
   "metadata": {},
   "source": [
    "### rectangle() ترسیم مستطیل"
   ]
  },
  {
   "cell_type": "raw",
   "id": "66081bdc",
   "metadata": {},
   "source": [
    "cv2.rectangle(\timg, pt1, pt2, color[, thickness[, lineType[, shift]]]\t) ->\timg\n",
    "\n",
    "Parameters\n",
    "\n",
    "img\t        Image.\n",
    "pt1\t        Vertex of the rectangle.\n",
    "pt2\t        Vertex of the rectangle opposite to pt1 .\n",
    "color\t    Rectangle color or brightness (grayscale image).\n",
    "thickness\tThickness of lines that make up the rectangle Negative values, like FILLED, mean that a filled circle is to             be drawn"
   ]
  },
  {
   "cell_type": "code",
   "execution_count": 25,
   "id": "fe116574",
   "metadata": {},
   "outputs": [
    {
     "name": "stdout",
     "output_type": "stream",
     "text": [
      "\n",
      "ESC Pressed, closing window...\n"
     ]
    }
   ],
   "source": [
    "raw_img = np.zeros((400, 400, 3), dtype = np.uint8) \n",
    "\n",
    "rect_img = cv2.rectangle(raw_img,\n",
    "                         (70, 100),      # top left corner     گوشه چپ بالا\n",
    "                         (170, 300),    # bottom right corner     گوشه راست پایین\n",
    "                         (0,255,0), \n",
    "                         2              # Negative value = Filled rectangle   مقادیر منفی مستطیل تو پر می کشد\n",
    "                        )\n",
    "\n",
    "show_one_image(rect_img)"
   ]
  },
  {
   "cell_type": "markdown",
   "id": "d97c5f56",
   "metadata": {},
   "source": [
    "### fillPoly() ترسیم چند ضلعی تو پر"
   ]
  },
  {
   "cell_type": "raw",
   "id": "07b8e9be",
   "metadata": {},
   "source": [
    "cv2.fillPoly(\timg, pts, color[, lineType[, shift[, offset]]]\t) ->\timg\n",
    "\n",
    "Parameters\n",
    "img     Image.\n",
    "pts     Array of polygons where each polygon is represented as an array of points.\n",
    "color   Polygon color."
   ]
  },
  {
   "cell_type": "code",
   "execution_count": 32,
   "id": "68d092ab",
   "metadata": {},
   "outputs": [
    {
     "name": "stdout",
     "output_type": "stream",
     "text": [
      "\n",
      "ESC Pressed, closing window...\n"
     ]
    }
   ],
   "source": [
    "raw_img = np.zeros((400, 400, 3), dtype = np.uint8) \n",
    "\n",
    "# Two Options for corners (Two shapes, Points and points1)\n",
    "points = np.int32([[35, 35], \n",
    "                   [85, 110],\n",
    "                   [160, 35],\n",
    "                   [80, 160],\n",
    "                   [50, 100],\n",
    "                   [15, 185]\n",
    "                  ])\n",
    "\n",
    "points1 = np.int32([[10,10], [90,60], [150, 80], [70, 150], [180, 200]])\n",
    "\n",
    "polly_img = cv2.fillPoly(raw_img,\n",
    "                        [points],    \n",
    "                        (0,255,0)  )\n",
    "\n",
    "\n",
    "show_one_image(polly_img)"
   ]
  },
  {
   "cell_type": "markdown",
   "id": "efc5757e",
   "metadata": {},
   "source": [
    "### polylines() ترسیم چند ضلعی تو خالی"
   ]
  },
  {
   "cell_type": "raw",
   "id": "b795896f",
   "metadata": {},
   "source": [
    "cv.polylines(\timg, pts, isClosed, color[, thickness[, lineType[, shift]]]\t) ->\timg\n",
    "\n",
    "Parameters\n",
    "img\t        Image.\n",
    "pts\t        Array of polygonal curves.\n",
    "isClosed\tFlag indicating whether the drawn polylines are closed or not. If they are closed, the function draws a line        from the last vertex of each curve to its first vertex.\n",
    "color\t    Polyline color.\n",
    "thickness\tThickness of the polyline edges"
   ]
  },
  {
   "cell_type": "code",
   "execution_count": 48,
   "id": "10c0b286",
   "metadata": {},
   "outputs": [
    {
     "name": "stdout",
     "output_type": "stream",
     "text": [
      "\n",
      "ESC Pressed, closing window...\n"
     ]
    }
   ],
   "source": [
    "raw_img = np.zeros((400, 400, 3), dtype = np.uint8) \n",
    "\n",
    "# Two Options for corners (Two shapes, Points and points1)\n",
    "points = np.int32([[35, 35], \n",
    "                   [85, 110],\n",
    "                   [160, 35],\n",
    "                   [80, 160],\n",
    "                   [50, 100],\n",
    "                   [15, 185]\n",
    "                  ])\n",
    "\n",
    "points1 = np.int32([[10,10], [90,60], [150, 80], [70, 150], [180, 200]])\n",
    "\n",
    "\n",
    "polly_img = cv2.polylines(raw_img,\n",
    "                         [points],         # Array of corners\n",
    "                         False,             # True for close the polygon, False to keep it open\n",
    "                         (255, 255, 0),    # Color\n",
    "                         3                 # Thickness\n",
    "                         ) \n",
    "\n",
    "show_one_image(polly_img)\n",
    "\n"
   ]
  },
  {
   "cell_type": "markdown",
   "id": "73853c81",
   "metadata": {},
   "source": [
    "### نوشتن متن روی تصویر"
   ]
  },
  {
   "cell_type": "raw",
   "id": "709a34a5",
   "metadata": {},
   "source": [
    "cv2.putText(\timg, text, org, fontFace, fontScale, color[, thickness[, lineType[, bottomLeftOrigin]]]\t) ->\timg\n",
    "\n",
    "Parameters\n",
    "\n",
    "img\t        Image.\n",
    "text\t    Text string to be drawn.\n",
    "org\t        Bottom-left corner of the text string in the image.\n",
    "fontFace\tFont type, see HersheyFonts.  ----------> [0 - 7]\n",
    "fontScale\tFont scale factor that is multiplied by the font-specific base size.\n",
    "color\t    Text color.\n",
    "thickness\tThickness of the lines used to draw a text."
   ]
  },
  {
   "cell_type": "code",
   "execution_count": 39,
   "id": "c0cd99f1",
   "metadata": {},
   "outputs": [
    {
     "name": "stdout",
     "output_type": "stream",
     "text": [
      "\n",
      "ESC Pressed, closing window...\n"
     ]
    }
   ],
   "source": [
    "img = cv2.imread(image_path +'squirrel_cls.jpg')\n",
    "\n",
    "cv2.putText(img, 'My Text on image', (10, 50), \n",
    "            cv2.FONT_HERSHEY_COMPLEX, 1, (0, 0, 255), 2 )\n",
    "\n",
    "show_one_image( img)"
   ]
  },
  {
   "cell_type": "markdown",
   "id": "30cf691a",
   "metadata": {},
   "source": [
    "### ترسیم و نوشتن متن روی ویدیو"
   ]
  },
  {
   "cell_type": "code",
   "execution_count": 42,
   "id": "352e3e13",
   "metadata": {},
   "outputs": [],
   "source": [
    "# Adding a rectangle\n",
    "\n",
    "filename_video = '../images/charlie-chaplin.mp4'\n",
    "vid = cv2.VideoCapture(filename_video)\n",
    "\n",
    "while True:\n",
    "    ret, frame = vid.read()\n",
    "    if ret:\n",
    "        cv2.rectangle(frame, (200,30), (400, 60), (255,0,0), 2)\n",
    "        cv2.imshow('Video', frame)\n",
    "\n",
    "        k = cv2.waitKey(20) & 0xFF\n",
    "        if k == 27 :    \n",
    "            break\n",
    "    else:\n",
    "        break\n",
    "\n",
    "vid.release()\n",
    "cv2.destroyAllWindows()"
   ]
  },
  {
   "cell_type": "code",
   "execution_count": 43,
   "id": "3edddd44",
   "metadata": {},
   "outputs": [],
   "source": [
    "# Adding Text\n",
    "\n",
    "filename_video = '../images/charlie-chaplin.mp4'\n",
    "vid = cv2.VideoCapture(filename_video)\n",
    "\n",
    "while True:\n",
    "    ret, frame = vid.read()\n",
    "    if ret:\n",
    "        cv2.rectangle(frame, (200,30), (400, 60), (255,0,0), 2)\n",
    "        cv2.putText(frame, 'Chrlie Chaplin', (210,50),cv2.FONT_HERSHEY_COMPLEX_SMALL, 1, (0,0,255),1)\n",
    "        cv2.imshow('Video', frame)\n",
    "\n",
    "        k = cv2.waitKey(20) & 0xFF\n",
    "        if k == 27 :    \n",
    "            break\n",
    "    else:\n",
    "        break\n",
    "\n",
    "vid.release()\n",
    "cv2.destroyAllWindows()"
   ]
  },
  {
   "cell_type": "code",
   "execution_count": null,
   "id": "5b97a2dd",
   "metadata": {},
   "outputs": [],
   "source": []
  },
  {
   "cell_type": "markdown",
   "id": "be1d51e6",
   "metadata": {},
   "source": [
    "### ذخیره فایل تصویر"
   ]
  },
  {
   "cell_type": "raw",
   "id": "715a088d",
   "metadata": {},
   "source": [
    "cv2.imwrite(\tfilename, img[, params]\t) ->\tretval\n",
    "\n",
    "\n",
    "Parameters\n",
    "\n",
    "filename\tName of the file.\n",
    "img\t        Image or Images to be saved."
   ]
  },
  {
   "cell_type": "code",
   "execution_count": 44,
   "id": "a54959d5",
   "metadata": {},
   "outputs": [
    {
     "name": "stdout",
     "output_type": "stream",
     "text": [
      "\n",
      "ESC Pressed, closing window...\n"
     ]
    },
    {
     "data": {
      "text/plain": [
       "True"
      ]
     },
     "execution_count": 44,
     "metadata": {},
     "output_type": "execute_result"
    }
   ],
   "source": [
    "# reading image\n",
    "img = cv2.imread('../images/squirrel_cls.jpg')\n",
    "\n",
    "cv2.putText(img, 'My Text on image 2', (10, 50), cv2.FONT_HERSHEY_COMPLEX, 1, (0, 0, 255), 2 )\n",
    "\n",
    "# show the result\n",
    "show_one_image(img)\n",
    "\n",
    "# file name for saving\n",
    "path_to_save = '../images/save/Squirrel_changed.jpg'\n",
    "\n",
    "cv2.imwrite(path_to_save, img)"
   ]
  },
  {
   "cell_type": "code",
   "execution_count": 45,
   "id": "2084d721",
   "metadata": {},
   "outputs": [
    {
     "ename": "error",
     "evalue": "OpenCV(4.6.0) D:\\a\\opencv-python\\opencv-python\\opencv\\modules\\highgui\\src\\window.cpp:967: error: (-215:Assertion failed) size.width>0 && size.height>0 in function 'cv::imshow'\n",
     "output_type": "error",
     "traceback": [
      "\u001b[1;31m---------------------------------------------------------------------------\u001b[0m",
      "\u001b[1;31merror\u001b[0m                                     Traceback (most recent call last)",
      "\u001b[1;32m~\\AppData\\Local\\Temp/ipykernel_372/3622146387.py\u001b[0m in \u001b[0;36m<module>\u001b[1;34m\u001b[0m\n\u001b[0;32m      1\u001b[0m \u001b[0mimg\u001b[0m \u001b[1;33m=\u001b[0m \u001b[0mcv2\u001b[0m\u001b[1;33m.\u001b[0m\u001b[0mimread\u001b[0m\u001b[1;33m(\u001b[0m\u001b[0mpath_to_save\u001b[0m\u001b[1;33m)\u001b[0m\u001b[1;33m\u001b[0m\u001b[1;33m\u001b[0m\u001b[0m\n\u001b[0;32m      2\u001b[0m \u001b[1;33m\u001b[0m\u001b[0m\n\u001b[1;32m----> 3\u001b[1;33m \u001b[0mshow_one_image\u001b[0m\u001b[1;33m(\u001b[0m \u001b[0mimg\u001b[0m\u001b[1;33m)\u001b[0m\u001b[1;33m\u001b[0m\u001b[1;33m\u001b[0m\u001b[0m\n\u001b[0m",
      "\u001b[1;32m~\\AppData\\Local\\Temp/ipykernel_372/1655126043.py\u001b[0m in \u001b[0;36mshow_one_image\u001b[1;34m(image_file)\u001b[0m\n\u001b[0;32m      1\u001b[0m \u001b[1;32mdef\u001b[0m \u001b[0mshow_one_image\u001b[0m\u001b[1;33m(\u001b[0m\u001b[0mimage_file\u001b[0m\u001b[1;33m)\u001b[0m\u001b[1;33m:\u001b[0m\u001b[1;33m\u001b[0m\u001b[1;33m\u001b[0m\u001b[0m\n\u001b[0;32m      2\u001b[0m \u001b[1;33m\u001b[0m\u001b[0m\n\u001b[1;32m----> 3\u001b[1;33m     \u001b[0mcv2\u001b[0m\u001b[1;33m.\u001b[0m\u001b[0mimshow\u001b[0m\u001b[1;33m(\u001b[0m\u001b[1;34m'image'\u001b[0m\u001b[1;33m,\u001b[0m \u001b[0mimage_file\u001b[0m\u001b[1;33m)\u001b[0m\u001b[1;33m\u001b[0m\u001b[1;33m\u001b[0m\u001b[0m\n\u001b[0m\u001b[0;32m      4\u001b[0m \u001b[1;33m\u001b[0m\u001b[0m\n\u001b[0;32m      5\u001b[0m     \u001b[1;32mwhile\u001b[0m \u001b[1;32mTrue\u001b[0m\u001b[1;33m:\u001b[0m\u001b[1;33m\u001b[0m\u001b[1;33m\u001b[0m\u001b[0m\n",
      "\u001b[1;31merror\u001b[0m: OpenCV(4.6.0) D:\\a\\opencv-python\\opencv-python\\opencv\\modules\\highgui\\src\\window.cpp:967: error: (-215:Assertion failed) size.width>0 && size.height>0 in function 'cv::imshow'\n"
     ]
    }
   ],
   "source": [
    "img = cv2.imread(path_to_save)\n",
    "\n",
    "show_one_image( img)"
   ]
  },
  {
   "cell_type": "markdown",
   "id": "bae7faf2",
   "metadata": {},
   "source": [
    "### ذخیره تصاویر ویدیو"
   ]
  },
  {
   "cell_type": "code",
   "execution_count": 79,
   "id": "00782ad6",
   "metadata": {},
   "outputs": [
    {
     "name": "stdout",
     "output_type": "stream",
     "text": [
      "Number of frames:  191\n"
     ]
    }
   ],
   "source": [
    "# Adding Text\n",
    "\n",
    "filename_video = '../images/charlie-chaplin.mp4'\n",
    "vid = cv2.VideoCapture(filename_video)\n",
    "\n",
    "# Creating a counter to save the frames of video\n",
    "counter = 1\n",
    "\n",
    "while True:\n",
    "    ret, frame = vid.read()\n",
    "    if ret:\n",
    "        # Add rectangle\n",
    "        cv2.rectangle(frame, (200,30), (400, 60), (255,0,0), 2)\n",
    "        \n",
    "        # Add Text\n",
    "        cv2.putText(frame, 'Chrlie Chaplin', (210,50),cv2.FONT_HERSHEY_COMPLEX_SMALL, 1, (0,0,255),1)\n",
    "        \n",
    "        # show the video\n",
    "        cv2.imshow('Video', frame)\n",
    "        \n",
    "        # Create filename to save\n",
    "        filename_to_save = '../images/save/' + 'Chaplin_' + str(counter) + '.jpg'\n",
    "        \n",
    "        # Saving frames one by one\n",
    "        cv2.imwrite(filename_to_save, frame)\n",
    "        \n",
    "        # counter up\n",
    "        counter += 1\n",
    "        \n",
    "        # Break codes\n",
    "        k = cv2.waitKey(10) & 0xFF\n",
    "        if k == 27 :    \n",
    "            break\n",
    "    else:\n",
    "        break\n",
    "        \n",
    "print('Number of frames: ',counter)\n",
    "\n",
    "\n",
    "vid.release()\n",
    "cv2.destroyAllWindows()"
   ]
  },
  {
   "cell_type": "code",
   "execution_count": null,
   "id": "03de02a5",
   "metadata": {},
   "outputs": [],
   "source": []
  },
  {
   "cell_type": "code",
   "execution_count": null,
   "id": "1b76974a",
   "metadata": {},
   "outputs": [],
   "source": []
  },
  {
   "cell_type": "markdown",
   "id": "5846332a",
   "metadata": {},
   "source": [
    "### تمرین\n",
    "\n",
    "#### یک فایل تصویر را باز کرده و روی آن یک مستطیل رسم نمایید\n",
    "\n",
    "#### یک تصویر با ابعاد دلخواه به رنگ مشکی ایجاد نمایید و روی آن شش دایره با مرکز مشترک و شعاع متغیر ترسیم نمایید\n",
    "\n",
    "#### یک تصویر با ابعاد دلخواه و رنگ پس زمینه سفید ایجاد نمایید و روی آن شکل اتم با بیضی های محو شونده ایجاد نمایید\n",
    "\n",
    "#### یک متن روی یک تصویر دلخواه بنویسید و فونت های آن را تغییر دهید\n",
    "\n",
    "#### یک فایل تصویر را بخوانید و در مرکز تصویر یک دایره ترسیم نمایید و با فشردن حرف اس کوچک یا اس بزرگ تصویر را ذخیره و با فشردن اسکیپ تصویر را ببندید"
   ]
  },
  {
   "cell_type": "code",
   "execution_count": 121,
   "id": "7f7722ab",
   "metadata": {},
   "outputs": [],
   "source": [
    "# drawing circles with different radius\n",
    "\n",
    "raw_img = np.zeros((400, 400, 3), dtype = np.uint8) \n",
    "\n",
    "for i in range(6):\n",
    "    raw_img = np.zeros((400, 400, 3), dtype = np.uint8) \n",
    "    cv2.circle(raw_img, (200, 200), i*20, (0,255, 0), 2)\n",
    "    cv2.imshow('raw_img', raw_img)\n",
    "    cv2.waitKey(1000)\n",
    "\n",
    "k = cv2.waitKey(0)\n",
    "if k == 27:\n",
    "    cv2.destroyAllWindows()"
   ]
  },
  {
   "cell_type": "code",
   "execution_count": 145,
   "id": "565a9901",
   "metadata": {},
   "outputs": [],
   "source": [
    "# Drawing ellipses in different angles\n",
    "\n",
    "for angle in [0, 45, 90, 135]:\n",
    "    raw_img = np.zeros((400, 400, 3), dtype = np.uint8) \n",
    "\n",
    "    # Converting black color to White\n",
    "    for i in range(400):\n",
    "        raw_img[i] = 255\n",
    "    cv2.circle(raw_img, (200, 200), 10, (0, 0, 255), -1)\n",
    "    cv2.ellipse(raw_img, (200, 200), (80, 30), angle, 0, 360, (255, 0, 0), 2)\n",
    "    cv2.waitKey(500)\n",
    "    cv2.imshow('raw_img', raw_img)\n",
    "    \n",
    "k = cv2.waitKey(0)\n",
    "\n",
    "if k == 27:\n",
    "    cv2.destroyAllWindows()    \n",
    "# show_one_image(raw_img)"
   ]
  },
  {
   "cell_type": "code",
   "execution_count": 146,
   "id": "7801771b",
   "metadata": {},
   "outputs": [],
   "source": [
    "# Using different Fonts\n",
    "\n",
    "for font_type_int in range(8):\n",
    "    raw_img = np.zeros((400, 400, 3), dtype = np.uint8)\n",
    "    \n",
    "    cv2.putText(raw_img, 'My Text is Here', (50, 100), font_type_int, 1, (0,0, 255), 2)\n",
    "    cv2.waitKey(1000)\n",
    "    cv2.imshow('raw_img', raw_img)\n",
    "    \n",
    "k = cv2.waitKey(0)\n",
    "\n",
    "if k == 27:\n",
    "    cv2.destroyAllWindows()    "
   ]
  },
  {
   "cell_type": "code",
   "execution_count": 15,
   "id": "63ea7d46",
   "metadata": {},
   "outputs": [
    {
     "name": "stdout",
     "output_type": "stream",
     "text": [
      "If you want to close, please press ESC\n",
      " If you want to save press \"s\" or \"S\"\n",
      "If you want to close, please press ESC\n",
      " If you want to save press \"s\" or \"S\"\n",
      "Image Saved\n",
      "\n",
      "ESC Pressed, closing window...\n"
     ]
    }
   ],
   "source": [
    "# Using different Keys for save or close image window\n",
    "\n",
    "img = cv2.imread(image_path +'squirrel_cls.jpg')\n",
    "\n",
    "cv2.circle(img, (img.shape[1]//2, img.shape[0]//2), 50, (0,0,255), 2)\n",
    "path_to_save = image_path + 'Squirrel_circled.jpg'\n",
    "\n",
    "while True:\n",
    "    cv2.imshow('My window', img)\n",
    "    k = cv2.waitKey(0)\n",
    "    \n",
    "\n",
    "    \n",
    "    if k == ord('s') or k == ord('S'):\n",
    "        cv2.imwrite(path_to_save, img)\n",
    "        print('Image Saved')\n",
    "    \n",
    "    if k == 27:\n",
    "        print('\\nESC Pressed, closing window...')\n",
    "        cv2.destroyAllWindows()\n",
    "        break\n",
    "        \n",
    "    if k not in [27, ord('s'), ord('S')]:\n",
    "        print('If you want to close, please press ESC\\n',\n",
    "              'If you want to save press \"s\" or \"S\"')\n",
    "        \n",
    "# path_to_save = image_path + 'Squirrel_circled.jpg'\n",
    "# cv2.imwrite(path_to_save, img)"
   ]
  }
 ],
 "metadata": {
  "kernelspec": {
   "display_name": "Python 3 (ipykernel)",
   "language": "python",
   "name": "python3"
  },
  "language_info": {
   "codemirror_mode": {
    "name": "ipython",
    "version": 3
   },
   "file_extension": ".py",
   "mimetype": "text/x-python",
   "name": "python",
   "nbconvert_exporter": "python",
   "pygments_lexer": "ipython3",
   "version": "3.9.6"
  }
 },
 "nbformat": 4,
 "nbformat_minor": 5
}
